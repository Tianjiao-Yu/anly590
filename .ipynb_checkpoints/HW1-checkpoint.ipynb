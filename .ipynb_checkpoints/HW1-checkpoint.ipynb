{
 "cells": [
  {
   "cell_type": "code",
   "execution_count": 11,
   "metadata": {},
   "outputs": [],
   "source": [
    "import pandas as pd\n",
    "import numpy as np\n",
    "import matplotlib.pyplot as plt\n",
    "\n",
    "from sklearn.preprocessing import scale\n",
    "from sklearn.model_selection import train_test_split\n",
    "from sklearn.linear_model import Ridge, RidgeCV, Lasso, LassoCV\n",
    "from sklearn.metrics import mean_squared_error"
   ]
  },
  {
   "cell_type": "code",
   "execution_count": 12,
   "metadata": {},
   "outputs": [
    {
     "name": "stdout",
     "output_type": "stream",
     "text": [
      "<class 'pandas.core.frame.DataFrame'>\n",
      "Int64Index: 263 entries, 1 to 321\n",
      "Data columns (total 21 columns):\n",
      " #   Column      Non-Null Count  Dtype  \n",
      "---  ------      --------------  -----  \n",
      " 0   Unnamed: 0  263 non-null    object \n",
      " 1   AtBat       263 non-null    int64  \n",
      " 2   Hits        263 non-null    int64  \n",
      " 3   HmRun       263 non-null    int64  \n",
      " 4   Runs        263 non-null    int64  \n",
      " 5   RBI         263 non-null    int64  \n",
      " 6   Walks       263 non-null    int64  \n",
      " 7   Years       263 non-null    int64  \n",
      " 8   CAtBat      263 non-null    int64  \n",
      " 9   CHits       263 non-null    int64  \n",
      " 10  CHmRun      263 non-null    int64  \n",
      " 11  CRuns       263 non-null    int64  \n",
      " 12  CRBI        263 non-null    int64  \n",
      " 13  CWalks      263 non-null    int64  \n",
      " 14  League      263 non-null    object \n",
      " 15  Division    263 non-null    object \n",
      " 16  PutOuts     263 non-null    int64  \n",
      " 17  Assists     263 non-null    int64  \n",
      " 18  Errors      263 non-null    int64  \n",
      " 19  Salary      263 non-null    float64\n",
      " 20  NewLeague   263 non-null    object \n",
      "dtypes: float64(1), int64(16), object(4)\n",
      "memory usage: 45.2+ KB\n"
     ]
    }
   ],
   "source": [
    "df = pd.read_csv(\"Hitters.csv\").dropna()\n",
    "df.info()"
   ]
  },
  {
   "cell_type": "code",
   "execution_count": 13,
   "metadata": {},
   "outputs": [],
   "source": [
    "x = df.drop([\"Unnamed: 0\", \"League\", \"Division\", \"NewLeague\", \"Salary\"], axis=1)\n",
    "y = df.Salary"
   ]
  },
  {
   "cell_type": "code",
   "execution_count": 14,
   "metadata": {},
   "outputs": [
    {
     "name": "stdout",
     "output_type": "stream",
     "text": [
      "<class 'pandas.core.frame.DataFrame'>\n",
      "Int64Index: 263 entries, 1 to 321\n",
      "Data columns (total 16 columns):\n",
      " #   Column   Non-Null Count  Dtype\n",
      "---  ------   --------------  -----\n",
      " 0   AtBat    263 non-null    int64\n",
      " 1   Hits     263 non-null    int64\n",
      " 2   HmRun    263 non-null    int64\n",
      " 3   Runs     263 non-null    int64\n",
      " 4   RBI      263 non-null    int64\n",
      " 5   Walks    263 non-null    int64\n",
      " 6   Years    263 non-null    int64\n",
      " 7   CAtBat   263 non-null    int64\n",
      " 8   CHits    263 non-null    int64\n",
      " 9   CHmRun   263 non-null    int64\n",
      " 10  CRuns    263 non-null    int64\n",
      " 11  CRBI     263 non-null    int64\n",
      " 12  CWalks   263 non-null    int64\n",
      " 13  PutOuts  263 non-null    int64\n",
      " 14  Assists  263 non-null    int64\n",
      " 15  Errors   263 non-null    int64\n",
      "dtypes: int64(16)\n",
      "memory usage: 34.9 KB\n"
     ]
    }
   ],
   "source": [
    "x.info()"
   ]
  },
  {
   "cell_type": "code",
   "execution_count": 15,
   "metadata": {},
   "outputs": [],
   "source": [
    "#split data intro train and test\n",
    "X_train, X_test, Y_train, Y_test= train_test_split(x, y, test_size = 0.6, random_state=1)"
   ]
  },
  {
   "cell_type": "code",
   "execution_count": 17,
   "metadata": {},
   "outputs": [],
   "source": [
    "alphas = 10**np.linspace(10,-2,100)*0.4"
   ]
  },
  {
   "cell_type": "markdown",
   "metadata": {},
   "source": [
    "# Lasso "
   ]
  },
  {
   "cell_type": "code",
   "execution_count": 24,
   "metadata": {},
   "outputs": [
    {
     "data": {
      "text/plain": [
       "Text(0, 0.5, 'weights')"
      ]
     },
     "execution_count": 24,
     "metadata": {},
     "output_type": "execute_result"
    },
    {
     "data": {
      "image/png": "[encoded data removed]",
      "text/plain": [
       "<Figure size 432x288 with 1 Axes>"
      ]
     },
     "metadata": {
      "needs_background": "light"
     },
     "output_type": "display_data"
    }
   ],
   "source": [
    "lasso = Lasso(max_iter = 10000, normalize = True)\n",
    "coEffients= []\n",
    "\n",
    "for a in alphas:\n",
    "    lasso.set_params(alpha=a)\n",
    "    lasso.fit(scale(X_train), Y_train)\n",
    "    coEffients.append(lasso.coef_)\n",
    "    \n",
    "ax = plt.gca()\n",
    "ax.plot(alphas*2,coEffients)\n",
    "ax.set_xscale('log')\n",
    "plt.axis('tight')\n",
    "plt.xlabel('alpha')\n",
    "plt.ylabel('weights')"
   ]
  },
  {
   "cell_type": "code",
   "execution_count": null,
   "metadata": {},
   "outputs": [],
   "source": []
  }
 ],
 "metadata": {
  "kernelspec": {
   "display_name": "Python 3",
   "language": "python",
   "name": "python3"
  },
  "language_info": {
   "codemirror_mode": {
    "name": "ipython",
    "version": 3
   },
   "file_extension": ".py",
   "mimetype": "text/x-python",
   "name": "python",
   "nbconvert_exporter": "python",
   "pygments_lexer": "ipython3",
   "version": "3.8.3"
  }
 },
 "nbformat": 4,
 "nbformat_minor": 4
}
