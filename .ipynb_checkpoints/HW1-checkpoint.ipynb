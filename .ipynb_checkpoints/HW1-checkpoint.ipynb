{
 "cells": [
  {
   "cell_type": "code",
   "execution_count": 1,
   "metadata": {},
   "outputs": [],
   "source": [
    "import pandas as pd\n",
    "import numpy as np\n",
    "import matplotlib.pyplot as plt\n",
    "\n",
    "from sklearn.preprocessing import scale\n",
    "from sklearn.model_selection import train_test_split\n",
    "from sklearn.linear_model import Ridge, RidgeCV, Lasso, LassoCV\n",
    "from sklearn.metrics import mean_squared_error"
   ]
  },
  {
   "cell_type": "code",
   "execution_count": 2,
   "metadata": {},
   "outputs": [
    {
     "name": "stdout",
     "output_type": "stream",
     "text": [
      "<class 'pandas.core.frame.DataFrame'>\n",
      "Int64Index: 263 entries, 1 to 321\n",
      "Data columns (total 21 columns):\n",
      " #   Column      Non-Null Count  Dtype  \n",
      "---  ------      --------------  -----  \n",
      " 0   Unnamed: 0  263 non-null    object \n",
      " 1   AtBat       263 non-null    int64  \n",
      " 2   Hits        263 non-null    int64  \n",
      " 3   HmRun       263 non-null    int64  \n",
      " 4   Runs        263 non-null    int64  \n",
      " 5   RBI         263 non-null    int64  \n",
      " 6   Walks       263 non-null    int64  \n",
      " 7   Years       263 non-null    int64  \n",
      " 8   CAtBat      263 non-null    int64  \n",
      " 9   CHits       263 non-null    int64  \n",
      " 10  CHmRun      263 non-null    int64  \n",
      " 11  CRuns       263 non-null    int64  \n",
      " 12  CRBI        263 non-null    int64  \n",
      " 13  CWalks      263 non-null    int64  \n",
      " 14  League      263 non-null    object \n",
      " 15  Division    263 non-null    object \n",
      " 16  PutOuts     263 non-null    int64  \n",
      " 17  Assists     263 non-null    int64  \n",
      " 18  Errors      263 non-null    int64  \n",
      " 19  Salary      263 non-null    float64\n",
      " 20  NewLeague   263 non-null    object \n",
      "dtypes: float64(1), int64(16), object(4)\n",
      "memory usage: 45.2+ KB\n"
     ]
    }
   ],
   "source": [
    "data = pd.read_csv(\"Hitters.csv\").dropna()\n",
    "data.info()"
   ]
  },
  {
   "cell_type": "code",
   "execution_count": 3,
   "metadata": {},
   "outputs": [],
   "source": [
    "x = data.drop([\"Unnamed: 0\", \"League\", \"Division\", \"NewLeague\", \"Salary\"], axis=1)\n",
    "y = data.Salary"
   ]
  },
  {
   "cell_type": "code",
   "execution_count": 4,
   "metadata": {},
   "outputs": [
    {
     "name": "stdout",
     "output_type": "stream",
     "text": [
      "<class 'pandas.core.frame.DataFrame'>\n",
      "Int64Index: 263 entries, 1 to 321\n",
      "Data columns (total 16 columns):\n",
      " #   Column   Non-Null Count  Dtype\n",
      "---  ------   --------------  -----\n",
      " 0   AtBat    263 non-null    int64\n",
      " 1   Hits     263 non-null    int64\n",
      " 2   HmRun    263 non-null    int64\n",
      " 3   Runs     263 non-null    int64\n",
      " 4   RBI      263 non-null    int64\n",
      " 5   Walks    263 non-null    int64\n",
      " 6   Years    263 non-null    int64\n",
      " 7   CAtBat   263 non-null    int64\n",
      " 8   CHits    263 non-null    int64\n",
      " 9   CHmRun   263 non-null    int64\n",
      " 10  CRuns    263 non-null    int64\n",
      " 11  CRBI     263 non-null    int64\n",
      " 12  CWalks   263 non-null    int64\n",
      " 13  PutOuts  263 non-null    int64\n",
      " 14  Assists  263 non-null    int64\n",
      " 15  Errors   263 non-null    int64\n",
      "dtypes: int64(16)\n",
      "memory usage: 34.9 KB\n"
     ]
    }
   ],
   "source": [
    "x.info()"
   ]
  },
  {
   "cell_type": "markdown",
   "metadata": {},
   "source": [
    "# Lasso "
   ]
  },
  {
   "cell_type": "code",
   "execution_count": 5,
   "metadata": {},
   "outputs": [
    {
     "data": {
      "text/plain": [
       "Text(0, 0.5, 'weights')"
      ]
     },
     "execution_count": 5,
     "metadata": {},
     "output_type": "execute_result"
    },
    {
     "data": {
      "image/png": "[encoded data removed]",
      "text/plain": [
       "<Figure size 432x288 with 1 Axes>"
      ]
     },
     "metadata": {
      "needs_background": "light"
     },
     "output_type": "display_data"
    }
   ],
   "source": [
    "alphas = 10**np.linspace(10,-2,100)*0.4\n",
    "\n",
    "lasso = Lasso(max_iter = 10000, normalize = True)\n",
    "coEffients= []\n",
    "\n",
    "for a in alphas:\n",
    "    lasso.set_params(alpha=a)\n",
    "    lasso.fit(x, y)\n",
    "    coEffients.append(lasso.coef_)\n",
    "    \n",
    "fig1 = plt.gca()\n",
    "fig1.plot(alphas*2,coEffients)\n",
    "fig1.set_xscale('log')\n",
    "plt.axis('tight')\n",
    "plt.xlabel('alpha')\n",
    "plt.ylabel('weights')"
   ]
  },
  {
   "cell_type": "code",
   "execution_count": 6,
   "metadata": {},
   "outputs": [
    {
     "name": "stdout",
     "output_type": "stream",
     "text": [
      "AtBat      0.000000\n",
      "Hits       0.329475\n",
      "HmRun      0.000000\n",
      "Runs       0.000000\n",
      "RBI        0.000000\n",
      "Walks      0.000000\n",
      "Years      0.000000\n",
      "CAtBat     0.000000\n",
      "CHits      0.000000\n",
      "CHmRun     0.000000\n",
      "CRuns      0.076322\n",
      "CRBI       0.204475\n",
      "CWalks     0.000000\n",
      "PutOuts    0.000000\n",
      "Assists    0.000000\n",
      "Errors     0.000000\n",
      "dtype: float64\n"
     ]
    }
   ],
   "source": [
    "lasso2 = Lasso(alpha = 10, max_iter = 10000, normalize = True).fit(x,y)\n",
    "print(pd.Series(lasso2.coef_, index=x.columns))"
   ]
  },
  {
   "cell_type": "markdown",
   "metadata": {},
   "source": [
    "We can see that the last three predictors are \"Hits, CRuns, CRBI\".\n"
   ]
  },
  {
   "cell_type": "markdown",
   "metadata": {},
   "source": [
    "## Again with CV"
   ]
  },
  {
   "cell_type": "code",
   "execution_count": 7,
   "metadata": {},
   "outputs": [
    {
     "data": {
      "text/plain": [
       "0.0635481759985745"
      ]
     },
     "execution_count": 7,
     "metadata": {},
     "output_type": "execute_result"
    }
   ],
   "source": [
    "lassocv = LassoCV(alphas=None, cv=10, max_iter=100000, normalize=True)\n",
    "lassocv.fit(scale(x),y)\n",
    "\n",
    "lassocv.alpha_\n"
   ]
  },
  {
   "cell_type": "markdown",
   "metadata": {},
   "source": [
    "So the optimal value of the penalty is 0.063"
   ]
  },
  {
   "cell_type": "code",
   "execution_count": 8,
   "metadata": {},
   "outputs": [
    {
     "name": "stdout",
     "output_type": "stream",
     "text": [
      "AtBat     -2.082954\n",
      "Hits       7.041011\n",
      "HmRun      0.000000\n",
      "Runs      -0.682615\n",
      "RBI        0.496552\n",
      "Walks      5.511781\n",
      "Years     -6.107625\n",
      "CAtBat    -0.087066\n",
      "CHits      0.000000\n",
      "CHmRun     0.156468\n",
      "CRuns      1.228061\n",
      "CRBI       0.583821\n",
      "CWalks    -0.690601\n",
      "PutOuts    0.292694\n",
      "Assists    0.304372\n",
      "Errors    -2.450795\n",
      "dtype: float64\n"
     ]
    }
   ],
   "source": [
    "model3 = Lasso(alpha=lassocv.alpha_,max_iter = 100000, normalize = True).fit(x, y)\n",
    "print(pd.Series(model3.coef_, index=x.columns))"
   ]
  },
  {
   "cell_type": "markdown",
   "metadata": {},
   "source": [
    "As we can see, there are 16 entres but 2 of them are zeros. So only 14 predictors left"
   ]
  },
  {
   "cell_type": "markdown",
   "metadata": {},
   "source": [
    "# Again with Ridge"
   ]
  },
  {
   "cell_type": "code",
   "execution_count": 9,
   "metadata": {},
   "outputs": [
    {
     "data": {
      "text/plain": [
       "Text(0.5, 1.0, 'Ridge Coefficients Trajectory')"
      ]
     },
     "execution_count": 9,
     "metadata": {},
     "output_type": "execute_result"
    },
    {
     "data": {
      "image/png": "[encoded data removed]",
      "text/plain": [
       "<Figure size 432x288 with 1 Axes>"
      ]
     },
     "metadata": {
      "needs_background": "light"
     },
     "output_type": "display_data"
    }
   ],
   "source": [
    "coEffients=[]\n",
    "\n",
    "for a in alphas:\n",
    "    ridge=Ridge(alpha = a,normalize=True)\n",
    "    ridge.fit(x, y)\n",
    "    coEffients.append(ridge.coef_)\n",
    "    \n",
    "fig2 = plt.gca()\n",
    "fig2.plot(alphas, coEffients)\n",
    "fig2.set_xscale('log')\n",
    "plt.xlabel('alpha')\n",
    "plt.ylabel('coefficients')\n",
    "plt.title('Ridge Coefficients Trajectory')"
   ]
  },
  {
   "cell_type": "code",
   "execution_count": 10,
   "metadata": {},
   "outputs": [
    {
     "data": {
      "text/plain": [
       "0.01221542203533365"
      ]
     },
     "execution_count": 10,
     "metadata": {},
     "output_type": "execute_result"
    }
   ],
   "source": [
    "ridgecv = RidgeCV(alphas = alphas, scoring = 'neg_mean_squared_error', normalize = True)\n",
    "ridgecv.fit(scale(x),y)\n",
    "ridgecv.alpha_"
   ]
  },
  {
   "cell_type": "markdown",
   "metadata": {},
   "source": [
    "The optimal value of the regularization penalty are 0.0122 now \n"
   ]
  },
  {
   "cell_type": "markdown",
   "metadata": {},
   "source": [
    "# Short Answer\n",
    "\n",
    "Bias and variance trade-off means that the ideal model with low bias and low variance is hard to accomplish. Bias and variance are contricicting each other so that we can only try to find a balance between them.\n",
    "\n",
    "\n",
    "In the Lasso example, the regularizition reduced the number of the predictors by removing irrelevant features in the data. This process increase the bias but rudeced the variance of the data.\n",
    "\n",
    "\n",
    "As we can see in problem 1, the larger the coefficients, the smaller the penalty value. In the case of low penalty value, the variance of the model is higher and we are facing the overfitting problem. On the other hand, when we have high penalty value, the bias become higher and we mgiht face underfitting."
   ]
  }
 ],
 "metadata": {
  "kernelspec": {
   "display_name": "Python 3",
   "language": "python",
   "name": "python3"
  },
  "language_info": {
   "codemirror_mode": {
    "name": "ipython",
    "version": 3
   },
   "file_extension": ".py",
   "mimetype": "text/x-python",
   "name": "python",
   "nbconvert_exporter": "python",
   "pygments_lexer": "ipython3",
   "version": "3.8.3"
  }
 },
 "nbformat": 4,
 "nbformat_minor": 4
}
